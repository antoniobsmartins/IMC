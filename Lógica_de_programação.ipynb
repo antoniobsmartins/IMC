{
  "nbformat": 4,
  "nbformat_minor": 0,
  "metadata": {
    "colab": {
      "provenance": [],
      "authorship_tag": "ABX9TyPaq0yIUUYuZQekINiFbCeB",
      "include_colab_link": true
    },
    "kernelspec": {
      "name": "python3",
      "display_name": "Python 3"
    },
    "language_info": {
      "name": "python"
    }
  },
  "cells": [
    {
      "cell_type": "markdown",
      "metadata": {
        "id": "view-in-github",
        "colab_type": "text"
      },
      "source": [
        "<a href=\"https://colab.research.google.com/github/antoniobsmartins/IMC/blob/main/L%C3%B3gica_de_programa%C3%A7%C3%A3o.ipynb\" target=\"_parent\"><img src=\"https://colab.research.google.com/assets/colab-badge.svg\" alt=\"Open In Colab\"/></a>"
      ]
    },
    {
      "cell_type": "markdown",
      "source": [
        "# Lógica de programação"
      ],
      "metadata": {
        "id": "O_4zOE1XwqNh"
      }
    },
    {
      "cell_type": "code",
      "execution_count": null,
      "metadata": {
        "id": "GNKZ_1sGu2sB"
      },
      "outputs": [],
      "source": [
        "idade = 21"
      ]
    },
    {
      "cell_type": "code",
      "source": [
        "nome = 'Antônio'"
      ],
      "metadata": {
        "id": "CsNqW_y5wO1B"
      },
      "execution_count": null,
      "outputs": []
    },
    {
      "cell_type": "code",
      "source": [
        "print(f'O meu nome é {nome} e tenho {idade} anos')"
      ],
      "metadata": {
        "colab": {
          "base_uri": "https://localhost:8080/"
        },
        "id": "uK3d1Jo2wO_X",
        "outputId": "377b79ba-c810-42cc-a374-65dc17bb9bc5"
      },
      "execution_count": null,
      "outputs": [
        {
          "output_type": "stream",
          "name": "stdout",
          "text": [
            "O meu nome é Antônio e tenho 21 anos\n"
          ]
        }
      ]
    },
    {
      "cell_type": "markdown",
      "source": [
        "# Criando minha primeira função"
      ],
      "metadata": {
        "id": "Anx8mAspw41J"
      }
    },
    {
      "cell_type": "code",
      "source": [
        "def saudacao():\n",
        "  nome = input('Qual o seu nome? ')\n",
        "  print(f'Olá {nome}')"
      ],
      "metadata": {
        "id": "j90auyuVwPNA"
      },
      "execution_count": null,
      "outputs": []
    },
    {
      "cell_type": "code",
      "source": [
        "saudacao()"
      ],
      "metadata": {
        "colab": {
          "base_uri": "https://localhost:8080/"
        },
        "id": "KT2RXPlUwPP-",
        "outputId": "1887610b-e3b6-4338-a184-0f6e2a881d7e"
      },
      "execution_count": null,
      "outputs": [
        {
          "output_type": "stream",
          "name": "stdout",
          "text": [
            "Qual o seu nome? Antônio\n",
            "Olá Antônio\n"
          ]
        }
      ]
    },
    {
      "cell_type": "markdown",
      "source": [
        "# Parâmetros"
      ],
      "metadata": {
        "id": "ywPANpSyITAY"
      }
    },
    {
      "cell_type": "code",
      "source": [
        "nome = 'Luiza'"
      ],
      "metadata": {
        "id": "y4Tc3LchwPSp"
      },
      "execution_count": null,
      "outputs": []
    },
    {
      "cell_type": "code",
      "source": [
        "def saudacao_com_parametro(nome_da_pessoa):\n",
        "  print(f'Olá {nome_da_pessoa}')"
      ],
      "metadata": {
        "id": "F11AKZQfHfvk"
      },
      "execution_count": null,
      "outputs": []
    },
    {
      "cell_type": "code",
      "source": [
        "saudacao_com_parametro(nome)"
      ],
      "metadata": {
        "colab": {
          "base_uri": "https://localhost:8080/"
        },
        "id": "llVlngnpH7_u",
        "outputId": "c033aa71-4642-46e5-8abd-bd1c24bb933d"
      },
      "execution_count": null,
      "outputs": [
        {
          "output_type": "stream",
          "name": "stdout",
          "text": [
            "Olá Luiza\n"
          ]
        }
      ]
    },
    {
      "cell_type": "markdown",
      "source": [
        "# Condicional"
      ],
      "metadata": {
        "id": "J9bqdK3hIgU7"
      }
    },
    {
      "cell_type": "code",
      "source": [
        "idade = 21"
      ],
      "metadata": {
        "id": "ECzQ-t2bIoNc"
      },
      "execution_count": null,
      "outputs": []
    },
    {
      "cell_type": "code",
      "source": [
        "def verifica_se_pode_dirigir(idade):\n",
        "  if idade >= 18:\n",
        "    print('Tem permissão para dirigir')\n",
        "  else:\n",
        "      print('Não tem permissão para dirigir')"
      ],
      "metadata": {
        "id": "5n3QUEqxIocS"
      },
      "execution_count": null,
      "outputs": []
    },
    {
      "cell_type": "code",
      "source": [
        "verifica_se_pode_dirigir(idade)\n"
      ],
      "metadata": {
        "colab": {
          "base_uri": "https://localhost:8080/"
        },
        "id": "y5VLI49-M66t",
        "outputId": "eedde31d-e99f-4df7-ca68-e993929313a9"
      },
      "execution_count": null,
      "outputs": [
        {
          "output_type": "stream",
          "name": "stdout",
          "text": [
            "Tem permissão para dirigir\n"
          ]
        }
      ]
    },
    {
      "cell_type": "markdown",
      "source": [
        "# Covertendo para inteiro"
      ],
      "metadata": {
        "id": "4HC_Y93lOZpo"
      }
    },
    {
      "cell_type": "code",
      "source": [
        "def verifica_se_pode_dirigir_sem_parametro():\n",
        "  idade = int(input('Qual sua idade? '))\n",
        "  if idade >= 18:\n",
        "    print('Tem permissão para dirigir')\n",
        "  else:\n",
        "      print('Não tem permissão para dirigir')\n",
        "      \n",
        "verifica_se_pode_dirigir_sem_parametro()"
      ],
      "metadata": {
        "colab": {
          "base_uri": "https://localhost:8080/"
        },
        "id": "g_CqE2WANl4E",
        "outputId": "0aadb39f-4173-4363-f25f-a95ccdb90d2c"
      },
      "execution_count": null,
      "outputs": [
        {
          "output_type": "stream",
          "name": "stdout",
          "text": [
            "Qual sua idade? 21\n",
            "Tem permissão para dirigir\n"
          ]
        }
      ]
    },
    {
      "cell_type": "markdown",
      "source": [
        "# Laços e Loops"
      ],
      "metadata": {
        "id": "AYSVmQBTXvp_"
      }
    },
    {
      "cell_type": "code",
      "source": [
        "idades = [15, 21, 18, 50]"
      ],
      "metadata": {
        "id": "kEpyb1-gYXeJ"
      },
      "execution_count": null,
      "outputs": []
    },
    {
      "cell_type": "code",
      "source": [
        "def verifica_se_pode_dirigir(idade):\n",
        "  if idade >= 18:\n",
        "    print(f'{idade} anos Tem permissão para dirigir')\n",
        "  else:\n",
        "      print(f'{idade} anos Não tem permissão para dirigir')\n",
        "for idade in idades:\n",
        "  verifica_se_pode_dirigir(idade)"
      ],
      "metadata": {
        "colab": {
          "base_uri": "https://localhost:8080/"
        },
        "id": "PrSDXy6EX0ez",
        "outputId": "b9242441-32ab-4267-ff25-2cba9da96ffd"
      },
      "execution_count": null,
      "outputs": [
        {
          "output_type": "stream",
          "name": "stdout",
          "text": [
            "15 anos Não tem permissão para dirigir\n",
            "21 anos Tem permissão para dirigir\n",
            "18 anos Tem permissão para dirigir\n",
            "50 anos Tem permissão para dirigir\n"
          ]
        }
      ]
    },
    {
      "cell_type": "code",
      "source": [
        "def verifica_se_pode_dirigir(idade):\n",
        "  for idade in idades:\n",
        "      if idade >= 18:\n",
        "        print(f'{idade} anos Tem permissão para dirigir')\n",
        "      else:\n",
        "        print(f'{idade} anos Não tem permissão para dirigir')\n",
        "verifica_se_pode_dirigir(idades)"
      ],
      "metadata": {
        "id": "nXL0sjAJZNfd",
        "colab": {
          "base_uri": "https://localhost:8080/"
        },
        "outputId": "e80ad50b-d321-4996-d433-1f4798d90b57"
      },
      "execution_count": null,
      "outputs": [
        {
          "output_type": "stream",
          "name": "stdout",
          "text": [
            "15 anos Não tem permissão para dirigir\n",
            "21 anos Tem permissão para dirigir\n",
            "18 anos Tem permissão para dirigir\n",
            "50 anos Tem permissão para dirigir\n"
          ]
        }
      ]
    },
    {
      "cell_type": "markdown",
      "source": [
        "# Boleano"
      ],
      "metadata": {
        "id": "xsFUsPHHZ8Oi"
      }
    },
    {
      "cell_type": "code",
      "source": [
        "idade = 15"
      ],
      "metadata": {
        "id": "L2j6u0xKZ_dX"
      },
      "execution_count": null,
      "outputs": []
    },
    {
      "cell_type": "code",
      "source": [
        "idade <= 18"
      ],
      "metadata": {
        "colab": {
          "base_uri": "https://localhost:8080/"
        },
        "id": "3DfvQ9G0d5IX",
        "outputId": "1441192d-c677-4aec-c7bc-ba9dc6bafdad"
      },
      "execution_count": null,
      "outputs": [
        {
          "output_type": "execute_result",
          "data": {
            "text/plain": [
              "True"
            ]
          },
          "metadata": {},
          "execution_count": 14
        }
      ]
    },
    {
      "cell_type": "code",
      "source": [
        "permissoes = []\n",
        "idades = [20, 15, 42]\n",
        "\n",
        "def verifica_se_pode_dirigir(idades, permissoes):\n",
        "  for idade in idades:\n",
        "      if idade >= 18:\n",
        "        permissoes.append(True)\n",
        "      else:\n",
        "        permissoes.append(False)\n",
        "verifica_se_pode_dirigir(idades, permissoes)"
      ],
      "metadata": {
        "id": "AYfXs5Pld5Xk"
      },
      "execution_count": null,
      "outputs": []
    },
    {
      "cell_type": "code",
      "source": [
        "permissoes"
      ],
      "metadata": {
        "colab": {
          "base_uri": "https://localhost:8080/"
        },
        "id": "7Ke5F2tyePW8",
        "outputId": "c8b931ae-9207-4e0f-f28d-3332111fa48f"
      },
      "execution_count": null,
      "outputs": [
        {
          "output_type": "execute_result",
          "data": {
            "text/plain": [
              "[True, False, True]"
            ]
          },
          "metadata": {},
          "execution_count": 19
        }
      ]
    },
    {
      "cell_type": "code",
      "source": [
        "for permissao in permissoes:\n",
        "  if permissao == True:\n",
        "    print('Tem permissão para dirigir')\n",
        "  else:\n",
        "    print('Não tem permissão para dirigir')\n"
      ],
      "metadata": {
        "colab": {
          "base_uri": "https://localhost:8080/"
        },
        "id": "UfSF6n4EgRGl",
        "outputId": "ae7e46e5-b200-4ddb-d633-403c70e6b391"
      },
      "execution_count": null,
      "outputs": [
        {
          "output_type": "stream",
          "name": "stdout",
          "text": [
            "Tem permissão para dirigir\n",
            "Não tem permissão para dirigir\n",
            "Tem permissão para dirigir\n"
          ]
        }
      ]
    },
    {
      "cell_type": "code",
      "source": [
        "permissoes = []\n",
        "saldo_dos_participantes = [50, 70, 15, 8, 18]\n",
        "\n",
        "def verificar_se_podem_participar_da_cota(saldo_dos_participantes, permissoes):\n",
        "  for saldo in saldo_dos_participantes:\n",
        "    if saldo >= 16:\n",
        "      permissoes.append(True)\n",
        "    else:\n",
        "      permissoes.append(False)\n",
        "verificar_se_podem_participar_da_cota(saldo_dos_participantes, permissoes)"
      ],
      "metadata": {
        "id": "0dwocVv5h8Zj"
      },
      "execution_count": null,
      "outputs": []
    },
    {
      "cell_type": "code",
      "source": [
        "permissoes"
      ],
      "metadata": {
        "colab": {
          "base_uri": "https://localhost:8080/"
        },
        "id": "Fwe1XZ9xjZwO",
        "outputId": "b945b2b7-02e2-4674-cb06-f59ca8654387"
      },
      "execution_count": null,
      "outputs": [
        {
          "output_type": "execute_result",
          "data": {
            "text/plain": [
              "[True, True, False, False, True]"
            ]
          },
          "metadata": {},
          "execution_count": 22
        }
      ]
    },
    {
      "cell_type": "code",
      "source": [
        "for permissao in permissoes:\n",
        "  if permissao == True:\n",
        "    print('Pode participar da cota')\n",
        "  else:\n",
        "    print('Não pode participar da cota')"
      ],
      "metadata": {
        "colab": {
          "base_uri": "https://localhost:8080/"
        },
        "id": "w21yaT4WjdY0",
        "outputId": "b3b97cd8-a1d3-49e8-9d0c-7bd981abac10"
      },
      "execution_count": null,
      "outputs": [
        {
          "output_type": "stream",
          "name": "stdout",
          "text": [
            "Pode participar da cota\n",
            "Pode participar da cota\n",
            "Não pode participar da cota\n",
            "Não pode participar da cota\n",
            "Pode participar da cota\n"
          ]
        }
      ]
    },
    {
      "cell_type": "markdown",
      "source": [
        "# Tipos em uma Lista"
      ],
      "metadata": {
        "id": "x50cNYVKjyFr"
      }
    },
    {
      "cell_type": "code",
      "source": [
        "lista = ['Antônio', 21, True, '3']\n",
        "\n",
        "for elemento in lista:\n",
        "  print(f'O elemento {elemento} é do tipo: ', type(elemento))"
      ],
      "metadata": {
        "colab": {
          "base_uri": "https://localhost:8080/"
        },
        "id": "ww5v_uyKj0il",
        "outputId": "31027fd3-cb18-4e2b-ae80-9d13155a47b1"
      },
      "execution_count": null,
      "outputs": [
        {
          "output_type": "stream",
          "name": "stdout",
          "text": [
            "O elemento Antônio é do tipo:  <class 'str'>\n",
            "O elemento 21 é do tipo:  <class 'int'>\n",
            "O elemento True é do tipo:  <class 'bool'>\n",
            "O elemento 3 é do tipo:  <class 'str'>\n"
          ]
        }
      ]
    },
    {
      "cell_type": "markdown",
      "source": [
        "# Imports"
      ],
      "metadata": {
        "id": "Ir2EgUDzk_si"
      }
    },
    {
      "cell_type": "code",
      "source": [
        "from random import randrange, seed"
      ],
      "metadata": {
        "id": "cTuUguDVlE0J"
      },
      "execution_count": null,
      "outputs": []
    },
    {
      "cell_type": "code",
      "source": [
        "seed(10)"
      ],
      "metadata": {
        "id": "BZJo6oehoa1I"
      },
      "execution_count": null,
      "outputs": []
    },
    {
      "cell_type": "code",
      "source": [
        "randrange(0, 11)"
      ],
      "metadata": {
        "colab": {
          "base_uri": "https://localhost:8080/"
        },
        "id": "yOA-rmH0mZUE",
        "outputId": "0575e383-bd3c-48ae-c058-d377d2666e1e"
      },
      "execution_count": null,
      "outputs": [
        {
          "output_type": "execute_result",
          "data": {
            "text/plain": [
              "9"
            ]
          },
          "metadata": {},
          "execution_count": 33
        }
      ]
    },
    {
      "cell_type": "code",
      "source": [
        "notas_matematica = []\n",
        "\n",
        "for notas in range(8):\n",
        "  notas_matematica.append(randrange(0, 11))\n",
        "  \n",
        "notas_matematica"
      ],
      "metadata": {
        "colab": {
          "base_uri": "https://localhost:8080/"
        },
        "id": "-1K3VR1amr0S",
        "outputId": "df6e7e7a-5edb-4d2e-9aa7-d12ced4ad1b0"
      },
      "execution_count": null,
      "outputs": [
        {
          "output_type": "execute_result",
          "data": {
            "text/plain": [
              "[0, 6, 7, 9, 0, 3, 7, 7]"
            ]
          },
          "metadata": {},
          "execution_count": 34
        }
      ]
    },
    {
      "cell_type": "markdown",
      "source": [
        "# Matplotlib"
      ],
      "metadata": {
        "id": "PW_opbilovE1"
      }
    },
    {
      "cell_type": "code",
      "source": [
        "import matplotlib.pyplot as plt"
      ],
      "metadata": {
        "id": "X4td43A_oxwf"
      },
      "execution_count": null,
      "outputs": []
    },
    {
      "cell_type": "code",
      "source": [
        "x = list(range(1, 9))\n",
        "y = notas_matematica"
      ],
      "metadata": {
        "id": "pdLf2mw1pDAy"
      },
      "execution_count": null,
      "outputs": []
    },
    {
      "cell_type": "code",
      "source": [
        "plt.plot(x, y, marker='o')\n",
        "plt.title('Notas de matemática')\n",
        "plt.xlabel('Provas')\n",
        "plt.ylabel('Notas')\n",
        "plt.show()"
      ],
      "metadata": {
        "colab": {
          "base_uri": "https://localhost:8080/",
          "height": 295
        },
        "id": "uc6tlbsWpT81",
        "outputId": "2252e25a-928f-4a2f-b0b9-5f957b0922a2"
      },
      "execution_count": null,
      "outputs": [
        {
          "output_type": "display_data",
          "data": {
            "text/plain": [
              "<Figure size 432x288 with 1 Axes>"
            ],
            "image/png": "[encoded data removed]"
          },
          "metadata": {
            "needs_background": "light"
          }
        }
      ]
    }
  ]
}