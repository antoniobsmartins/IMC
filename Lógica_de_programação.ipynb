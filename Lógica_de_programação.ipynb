{
  "nbformat": 4,
  "nbformat_minor": 0,
  "metadata": {
    "colab": {
      "provenance": [],
      "authorship_tag": "ABX9TyN4FfC8cwKYOqHyGR7f8W6r",
      "include_colab_link": true
    },
    "kernelspec": {
      "name": "python3",
      "display_name": "Python 3"
    },
    "language_info": {
      "name": "python"
    }
  },
  "cells": [
    {
      "cell_type": "markdown",
      "metadata": {
        "id": "view-in-github",
        "colab_type": "text"
      },
      "source": [
        "<a href=\"https://colab.research.google.com/github/antoniobsmartins/IMC/blob/main/L%C3%B3gica_de_programa%C3%A7%C3%A3o.ipynb\" target=\"_parent\"><img src=\"https://colab.research.google.com/assets/colab-badge.svg\" alt=\"Open In Colab\"/></a>"
      ]
    },
    {
      "cell_type": "markdown",
      "source": [
        "# Lógica de programação"
      ],
      "metadata": {
        "id": "O_4zOE1XwqNh"
      }
    },
    {
      "cell_type": "code",
      "execution_count": 1,
      "metadata": {
        "id": "GNKZ_1sGu2sB"
      },
      "outputs": [],
      "source": [
        "idade = 21"
      ]
    },
    {
      "cell_type": "code",
      "source": [
        "nome = 'Antônio'"
      ],
      "metadata": {
        "id": "CsNqW_y5wO1B"
      },
      "execution_count": 2,
      "outputs": []
    },
    {
      "cell_type": "code",
      "source": [
        "print(f'O meu nome é {nome} e tenho {idade} anos')"
      ],
      "metadata": {
        "colab": {
          "base_uri": "https://localhost:8080/"
        },
        "id": "uK3d1Jo2wO_X",
        "outputId": "377b79ba-c810-42cc-a374-65dc17bb9bc5"
      },
      "execution_count": 4,
      "outputs": [
        {
          "output_type": "stream",
          "name": "stdout",
          "text": [
            "O meu nome é Antônio e tenho 21 anos\n"
          ]
        }
      ]
    },
    {
      "cell_type": "markdown",
      "source": [
        "# Criando minha primeira função"
      ],
      "metadata": {
        "id": "Anx8mAspw41J"
      }
    },
    {
      "cell_type": "code",
      "source": [
        "def saudacao():\n",
        "  nome = input('Qual o seu nome? ')\n",
        "  print(f'Olá {nome}')"
      ],
      "metadata": {
        "id": "j90auyuVwPNA"
      },
      "execution_count": 5,
      "outputs": []
    },
    {
      "cell_type": "code",
      "source": [
        "saudacao()"
      ],
      "metadata": {
        "colab": {
          "base_uri": "https://localhost:8080/"
        },
        "id": "KT2RXPlUwPP-",
        "outputId": "1887610b-e3b6-4338-a184-0f6e2a881d7e"
      },
      "execution_count": 6,
      "outputs": [
        {
          "output_type": "stream",
          "name": "stdout",
          "text": [
            "Qual o seu nome? Antônio\n",
            "Olá Antônio\n"
          ]
        }
      ]
    },
    {
      "cell_type": "markdown",
      "source": [
        "# Parâmetros"
      ],
      "metadata": {
        "id": "ywPANpSyITAY"
      }
    },
    {
      "cell_type": "code",
      "source": [
        "nome = 'Luiza'"
      ],
      "metadata": {
        "id": "y4Tc3LchwPSp"
      },
      "execution_count": 7,
      "outputs": []
    },
    {
      "cell_type": "code",
      "source": [
        "def saudacao_com_parametro(nome_da_pessoa):\n",
        "  print(f'Olá {nome_da_pessoa}')"
      ],
      "metadata": {
        "id": "F11AKZQfHfvk"
      },
      "execution_count": 9,
      "outputs": []
    },
    {
      "cell_type": "code",
      "source": [
        "saudacao_com_parametro(nome)"
      ],
      "metadata": {
        "colab": {
          "base_uri": "https://localhost:8080/"
        },
        "id": "llVlngnpH7_u",
        "outputId": "c033aa71-4642-46e5-8abd-bd1c24bb933d"
      },
      "execution_count": 10,
      "outputs": [
        {
          "output_type": "stream",
          "name": "stdout",
          "text": [
            "Olá Luiza\n"
          ]
        }
      ]
    },
    {
      "cell_type": "markdown",
      "source": [
        "# Condicional"
      ],
      "metadata": {
        "id": "J9bqdK3hIgU7"
      }
    },
    {
      "cell_type": "code",
      "source": [
        "idade = 21"
      ],
      "metadata": {
        "id": "ECzQ-t2bIoNc"
      },
      "execution_count": 11,
      "outputs": []
    },
    {
      "cell_type": "code",
      "source": [
        "def verifica_se_pode_dirigir(idade):\n",
        "  if idade >= 18:\n",
        "    print('Tem permissão para dirigir')\n",
        "  else:\n",
        "      print('Não tem permissão para dirigir')"
      ],
      "metadata": {
        "id": "5n3QUEqxIocS"
      },
      "execution_count": 13,
      "outputs": []
    },
    {
      "cell_type": "code",
      "source": [
        "verifica_se_pode_dirigir(idade)\n"
      ],
      "metadata": {
        "colab": {
          "base_uri": "https://localhost:8080/"
        },
        "id": "y5VLI49-M66t",
        "outputId": "eedde31d-e99f-4df7-ca68-e993929313a9"
      },
      "execution_count": 15,
      "outputs": [
        {
          "output_type": "stream",
          "name": "stdout",
          "text": [
            "Tem permissão para dirigir\n"
          ]
        }
      ]
    },
    {
      "cell_type": "markdown",
      "source": [
        "# Covertendo para inteiro"
      ],
      "metadata": {
        "id": "4HC_Y93lOZpo"
      }
    },
    {
      "cell_type": "code",
      "source": [
        "def verifica_se_pode_dirigir_sem_parametro():\n",
        "  idade = int(input('Qual sua idade? '))\n",
        "  if idade >= 18:\n",
        "    print('Tem permissão para dirigir')\n",
        "  else:\n",
        "      print('Não tem permissão para dirigir')\n",
        "      \n",
        "verifica_se_pode_dirigir_sem_parametro()"
      ],
      "metadata": {
        "colab": {
          "base_uri": "https://localhost:8080/"
        },
        "id": "g_CqE2WANl4E",
        "outputId": "0aadb39f-4173-4363-f25f-a95ccdb90d2c"
      },
      "execution_count": 22,
      "outputs": [
        {
          "output_type": "stream",
          "name": "stdout",
          "text": [
            "Qual sua idade? 21\n",
            "Tem permissão para dirigir\n"
          ]
        }
      ]
    },
    {
      "cell_type": "markdown",
      "source": [
        "# Laços e Loops"
      ],
      "metadata": {
        "id": "AYSVmQBTXvp_"
      }
    },
    {
      "cell_type": "code",
      "source": [
        "idades = [15, 21, 18, 50]"
      ],
      "metadata": {
        "id": "kEpyb1-gYXeJ"
      },
      "execution_count": 23,
      "outputs": []
    },
    {
      "cell_type": "code",
      "source": [
        "def verifica_se_pode_dirigir(idade):\n",
        "  if idade >= 18:\n",
        "    print(f'{idade} anos Tem permissão para dirigir')\n",
        "  else:\n",
        "      print(f'{idade} anos Não tem permissão para dirigir')\n",
        "for idade in idades:\n",
        "  verifica_se_pode_dirigir(idade)"
      ],
      "metadata": {
        "colab": {
          "base_uri": "https://localhost:8080/"
        },
        "id": "PrSDXy6EX0ez",
        "outputId": "b9242441-32ab-4267-ff25-2cba9da96ffd"
      },
      "execution_count": 28,
      "outputs": [
        {
          "output_type": "stream",
          "name": "stdout",
          "text": [
            "15 anos Não tem permissão para dirigir\n",
            "21 anos Tem permissão para dirigir\n",
            "18 anos Tem permissão para dirigir\n",
            "50 anos Tem permissão para dirigir\n"
          ]
        }
      ]
    },
    {
      "cell_type": "code",
      "source": [
        "def verifica_se_pode_dirigir(idade):\n",
        "  for idade in idades:\n",
        "      if idade >= 18:\n",
        "        print(f'{idade} anos Tem permissão para dirigir')\n",
        "      else:\n",
        "        print(f'{idade} anos Não tem permissão para dirigir')\n",
        "verifica_se_pode_dirigir(idades)"
      ],
      "metadata": {
        "id": "nXL0sjAJZNfd",
        "colab": {
          "base_uri": "https://localhost:8080/"
        },
        "outputId": "e80ad50b-d321-4996-d433-1f4798d90b57"
      },
      "execution_count": 34,
      "outputs": [
        {
          "output_type": "stream",
          "name": "stdout",
          "text": [
            "15 anos Não tem permissão para dirigir\n",
            "21 anos Tem permissão para dirigir\n",
            "18 anos Tem permissão para dirigir\n",
            "50 anos Tem permissão para dirigir\n"
          ]
        }
      ]
    },
    {
      "cell_type": "markdown",
      "source": [
        "# Boleano"
      ],
      "metadata": {
        "id": "xsFUsPHHZ8Oi"
      }
    },
    {
      "cell_type": "code",
      "source": [],
      "metadata": {
        "id": "L2j6u0xKZ_dX"
      },
      "execution_count": null,
      "outputs": []
    }
  ]
}